{
 "cells": [
  {
   "cell_type": "code",
   "execution_count": 12,
   "metadata": {},
   "outputs": [
    {
     "name": "stdout",
     "output_type": "stream",
     "text": [
      "{'a': 54, 'b': 28, 'c': 56, 'd': 90}\n",
      "54\n",
      "28\n"
     ]
    },
    {
     "data": {
      "text/plain": [
       "dict"
      ]
     },
     "execution_count": 12,
     "metadata": {},
     "output_type": "execute_result"
    }
   ],
   "source": [
    "#To convert Python JSON string to Dictionary, use json.loads() function.\n",
    "message = [{\"a\": 54, \"b\":28}, {\"c\": 87, \"d\":16}, {\"e\": 53, \"f\":74}]\n",
    "# In this example, we will take a JSON string that contains a JSON object. \n",
    "# We will use loads() function to load the JSON string into a Python Dictionary, \n",
    "# and access the name:value pairs.\n",
    "\n",
    "import json\n",
    "json_string = '{\"a\": 54, \"b\":28,\"c\":56,\"d\":90}'\n",
    "adict = json.loads(json_string)\n",
    "print(adict)\n",
    "print(adict['a'])\n",
    "print(adict['b'])\n",
    "type(adict)"
   ]
  },
  {
   "cell_type": "code",
   "execution_count": 13,
   "metadata": {},
   "outputs": [
    {
     "name": "stdout",
     "output_type": "stream",
     "text": [
      "{'a': 67, 'b': {'c': 56, 'd': 90}, 'c': {'g': 78, 'w': 67, 'j': 12}}\n",
      "can access to any value by giving key for that 90\n"
     ]
    },
    {
     "data": {
      "text/plain": [
       "dict"
      ]
     },
     "execution_count": 13,
     "metadata": {},
     "output_type": "execute_result"
    }
   ],
   "source": [
    "#JSON Nested Object to Dictionary\n",
    "json_string = '{\"a\":67,\"b\":{\"c\":56,\"d\":90},\"c\":{\"g\":78,\"w\":67,\"j\":12}}'\n",
    "adict = json.loads(json_string)\n",
    "print(adict)\n",
    "print(\"can access to any value by giving key for that\",adict['b']['d'])\n",
    "type(adict)"
   ]
  },
  {
   "cell_type": "code",
   "execution_count": 23,
   "metadata": {},
   "outputs": [
    {
     "name": "stdout",
     "output_type": "stream",
     "text": [
      "[{'a': 67, 'b': {'c': 56, 'd': 90}}, {'l': {'g': 78, 'w': 67, 'j': 12}}]\n",
      "can access to any value by giving key for that {'l': {'g': 78, 'w': 67, 'j': 12}}\n"
     ]
    },
    {
     "data": {
      "text/plain": [
       "list"
      ]
     },
     "execution_count": 23,
     "metadata": {},
     "output_type": "execute_result"
    }
   ],
   "source": [
    "#json.loads returns list or dictionary it depends on string given to it.In above i was returning\n",
    "#dictionary but in below it is returning the list\n",
    "json_string = '[{\"a\":67,\"b\":{\"c\":56,\"d\":90}},{\"l\":{\"g\":78,\"w\":67,\"j\":12}}]'\n",
    "adict = json.loads(json_string)\n",
    "print(adict)\n",
    "print(\"can access to any value by giving key for that\",adict[1])\n",
    "type(adict)"
   ]
  },
  {
   "cell_type": "code",
   "execution_count": 24,
   "metadata": {},
   "outputs": [
    {
     "name": "stdout",
     "output_type": "stream",
     "text": [
      "{\n",
      "    \"a\": 34,\n",
      "    \"b\": 61,\n",
      "    \"c\": 82\n",
      "}\n"
     ]
    }
   ],
   "source": [
    "# In this example, we will create JSON formatted string from a Python Dictionary.\n",
    "# json.dumps() with indent argument returns a JSON formatted string value created from the dictionary.\n",
    "import json\n",
    "\n",
    "dictionary = {'a':34, 'b':61, 'c':82}\n",
    "jsonString = json.dumps(dictionary, indent=4)\n",
    "print(jsonString)"
   ]
  },
  {
   "cell_type": "code",
   "execution_count": 25,
   "metadata": {},
   "outputs": [
    {
     "name": "stdout",
     "output_type": "stream",
     "text": [
      "[\n",
      "    {\n",
      "        \"a\": 54\n",
      "    },\n",
      "    {\n",
      "        \"b\": 41,\n",
      "        \"c\": 87\n",
      "    }\n",
      "]\n"
     ]
    }
   ],
   "source": [
    "# In this example, \n",
    "# we will create JSON formatted string from a Python List. Python List will have dictionaries as items.\n",
    "import json\n",
    "\n",
    "myList = [{'a': 54}, {'b': 41, 'c':87}]\n",
    "jsonString = json.dumps(myList, indent=4)\n",
    "print(jsonString)"
   ]
  },
  {
   "cell_type": "code",
   "execution_count": 27,
   "metadata": {},
   "outputs": [
    {
     "name": "stdout",
     "output_type": "stream",
     "text": [
      "[\n",
      "    {\n",
      "        \"a\": 54\n",
      "    },\n",
      "    {\n",
      "        \"b\": 41,\n",
      "        \"c\": 87\n",
      "    }\n",
      "]\n"
     ]
    },
    {
     "data": {
      "text/plain": [
       "str"
      ]
     },
     "execution_count": 27,
     "metadata": {},
     "output_type": "execute_result"
    }
   ],
   "source": [
    "# In this example, we will create JSON formatted string from a Python Tuple.\n",
    "import json\n",
    "\n",
    "myTuple = ({'a': 54}, {'b': 41, 'c':87})\n",
    "jsonString = json.dumps(myTuple, indent=4)\n",
    "print(jsonString)\n",
    "type(jsonString)"
   ]
  },
  {
   "cell_type": "code",
   "execution_count": 28,
   "metadata": {},
   "outputs": [
    {
     "name": "stderr",
     "output_type": "stream",
     "text": [
      "IOPub data rate exceeded.\n",
      "The notebook server will temporarily stop sending output\n",
      "to the client in order to avoid crashing it.\n",
      "To change this limit, set the config variable\n",
      "`--NotebookApp.iopub_data_rate_limit`.\n",
      "\n",
      "Current values:\n",
      "NotebookApp.iopub_data_rate_limit=1000000.0 (bytes/sec)\n",
      "NotebookApp.rate_limit_window=3.0 (secs)\n",
      "\n"
     ]
    }
   ],
   "source": [
    "#Reading The Json File\n",
    "fileObject = open(\"/Users\\JAYSHREE RATHOD\\Desktop\\shyena\\Rabbitmq/data.json\", \"r\")\n",
    "jsonContent = fileObject.read()\n",
    "aList = json.loads(jsonContent)\n",
    "print(aList)\n",
    "# print(aList['a'])\n",
    "# print(aList['b'])\n",
    "# print(aList['c'])"
   ]
  },
  {
   "cell_type": "code",
   "execution_count": 29,
   "metadata": {},
   "outputs": [
    {
     "name": "stdout",
     "output_type": "stream",
     "text": [
      "{'InvoiceNo': '536365', 'StockCode': '85123A', 'Description': 'WHITE HANGING HEART T-LIGHT HOLDER', 'Quantity': '6', 'InvoiceDate': '12/1/2017 8:26', 'UnitPrice': '2.55', 'CustomerID': '17850', 'Country': 'United Kingdom'}\n"
     ]
    }
   ],
   "source": [
    "print(aList[0])"
   ]
  },
  {
   "cell_type": "code",
   "execution_count": 30,
   "metadata": {},
   "outputs": [],
   "source": [
    "#Creating json file and writing the content into it\n",
    "\n",
    "aDict = {\"a\":54, \"b\":87}\n",
    "jsonString = json.dumps(aDict)\n",
    "jsonFile = open(\"data.json\", \"w\")\n",
    "jsonFile.write(jsonString)\n",
    "jsonFile.close()"
   ]
  },
  {
   "cell_type": "code",
   "execution_count": 31,
   "metadata": {},
   "outputs": [],
   "source": [
    "aList = [{\"a\":54, \"b\":87}, {\"c\":81, \"d\":63}, {\"e\":17, \"f\":39}]\n",
    "jsonString = json.dumps(aList)\n",
    "jsonFile = open(\"data.json\", \"w\")\n",
    "jsonFile.write(jsonString)\n",
    "jsonFile.close()"
   ]
  },
  {
   "cell_type": "code",
   "execution_count": 32,
   "metadata": {},
   "outputs": [
    {
     "name": "stdout",
     "output_type": "stream",
     "text": [
      "[\"python\", \"json\", 22, 23.04]\n",
      "22\n"
     ]
    }
   ],
   "source": [
    "#When you have tuple as input\n",
    "#python tuple\n",
    "mytuple = (\"python\", \"json\", 22, 23.04)\n",
    "\n",
    "#convert to JSON string\n",
    "jsonStr = json.dumps(mytuple) #gives JSON string and you can not access it for accesing  \n",
    "\n",
    "#print json string\n",
    "print(jsonStr)\n",
    "\n",
    "#parse json\n",
    "jsonArr = json.loads(jsonStr)# json string to list or array\n",
    "\n",
    "#print third item of the json array\n",
    "print(jsonArr[2])"
   ]
  },
  {
   "cell_type": "code",
   "execution_count": 33,
   "metadata": {},
   "outputs": [],
   "source": [
    "#Converting CSV to JSON file\n",
    "# 1) Initialize a Python List.\n",
    "# 2) Read the lines of CSV file using csv.DictReader() function.\n",
    "# 3) Convert each line into a dictionary. Add the dictionary to the Python List created in step 1.\n",
    "# 4) Convert the Python List to JSON String using json.dumps().\n",
    "# 5) You may write the JSON String to a JSON file.\n",
    "import csv \n",
    "import json \n",
    "\n",
    "def csv_to_json(csvFilePath, jsonFilePath):\n",
    "    jsonArray = []\n",
    "      \n",
    "    #read csv file\n",
    "    with open(csvFilePath, encoding='utf-8') as csvf: \n",
    "        #load csv file data using csv library's dictionary reader\n",
    "        csvReader = csv.DictReader(csvf) \n",
    "\n",
    "        #convert each csv row into python dict\n",
    "        for row in csvReader: \n",
    "            #add this python dict to json array\n",
    "            jsonArray.append(row)\n",
    "  \n",
    "    #convert python jsonArray to JSON String and write to file\n",
    "    with open(jsonFilePath, 'w', encoding='utf-8') as jsonf: \n",
    "        jsonString = json.dumps(jsonArray, indent=4)\n",
    "        jsonf.write(jsonString)\n",
    "          \n",
    "csvFilePath = r'/Users\\JAYSHREE RATHOD\\Downloads/Salary.csv'\n",
    "jsonFilePath = r'Salary_data.json'\n",
    "csv_to_json(csvFilePath, jsonFilePath)"
   ]
  },
  {
   "cell_type": "code",
   "execution_count": null,
   "metadata": {},
   "outputs": [],
   "source": []
  }
 ],
 "metadata": {
  "kernelspec": {
   "display_name": "Python 3",
   "language": "python",
   "name": "python3"
  },
  "language_info": {
   "codemirror_mode": {
    "name": "ipython",
    "version": 3
   },
   "file_extension": ".py",
   "mimetype": "text/x-python",
   "name": "python",
   "nbconvert_exporter": "python",
   "pygments_lexer": "ipython3",
   "version": "3.8.3"
  }
 },
 "nbformat": 4,
 "nbformat_minor": 4
}
